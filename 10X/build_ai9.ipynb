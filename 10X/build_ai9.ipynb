{
 "cells": [
  {
   "cell_type": "code",
   "execution_count": 1,
   "metadata": {},
   "outputs": [],
   "source": [
    "# import libraries\n",
    "import urllib2\n",
    "from bs4 import BeautifulSoup\n",
    "import os.path\n",
    "import re"
   ]
  },
  {
   "cell_type": "code",
   "execution_count": 2,
   "metadata": {},
   "outputs": [],
   "source": [
    "OUT_DIR = '/Users/rhodesct/Documents/Genomes'"
   ]
  },
  {
   "cell_type": "code",
   "execution_count": 3,
   "metadata": {},
   "outputs": [
    {
     "name": "stdout",
     "output_type": "stream",
     "text": [
      "url: https://www.addgene.org/22799/sequences/ \n",
      "header: {'User-Agent': 'Mozilla/5.0'}\n"
     ]
    }
   ],
   "source": [
    "url = 'https://www.addgene.org/22799/sequences/'\n",
    "headers = {'User-Agent':'Mozilla/5.0'}\n",
    "print(\"url: %s \\nheader: %s\" % (url, headers))"
   ]
  },
  {
   "cell_type": "code",
   "execution_count": 4,
   "metadata": {},
   "outputs": [],
   "source": [
    "# query the website and return the html to the variable 'page'\n",
    "req = urllib2.Request(url, headers=headers)\n",
    "response = urllib2.urlopen(req)\n",
    "the_page = response.read()\n",
    "soup = BeautifulSoup(the_page, 'html.parser')\n",
    "seq_box = soup.find(id='addgene-full')\n",
    "seq_text = seq_box.find('textarea')\n",
    "seq_proc = seq_text.text.strip().upper()"
   ]
  },
  {
   "cell_type": "code",
   "execution_count": 5,
   "metadata": {},
   "outputs": [
    {
     "data": {
      "text/plain": [
       "u'> ADDGENE ASSEMBLED SEQUENCE\\nCCGCGGCAGGCCCTCCGAGCGTGGTGGAGCCGTTCTGTGAGACAGCCGGGTACGAGTCGTGACGCTGGAA\\nGGGGCAAGCGGGTGGTGGGCAGGAATGCGGTCCGCCCTGCAGCAACCGGAGGGGGAGGGAGAAGGGAGCG\\nGAAAAGTCTCCACCGGACGCGGCCATGGCTCGGGGGGGGGGGGGCAGCGGAGGAGCGCTTCCGGCCGACG\\nTCTCGTCGCTGATTGGCTTCTTTTCCTCCCGCCGTGTGTGAAAACACAAATGGCGTGTTTTGGTTGGCGT\\nAAGGCGCCTGTCAGTTAACGGCAGCCGGAGTGCGCAGCCGCCGGCAGCCTCGCTCTGCCCACTGGGTGGG\\nGCGGGAGGTAGGTGGGGTGAGGCGAGCTGGACGTGCGGGCGCGGTCGGCCTCTGGCGGGGCGGGGGGGGG\\nGGGGGGGGGTCAGCGAAAGTAGCTCGCGCGCGAGCGGCCGCCCAC'"
      ]
     },
     "execution_count": 5,
     "metadata": {},
     "output_type": "execute_result"
    }
   ],
   "source": [
    "seq_proc[:500]"
   ]
  },
  {
   "cell_type": "code",
   "execution_count": 6,
   "metadata": {},
   "outputs": [],
   "source": [
    "regex = re.compile(re.escape('> addgene assembled sequence'), re.IGNORECASE)\n",
    "seq = regex.sub('>Ai9', seq_proc)"
   ]
  },
  {
   "cell_type": "code",
   "execution_count": 7,
   "metadata": {},
   "outputs": [
    {
     "data": {
      "text/plain": [
       "u'>Ai9\\nCCGCGGCAGGCCCTCCGAGCGTGGTGGAGCCGTTCTGTGAGACAGCCGGGTACGAGTCGTGACGCTGGAA\\nGGGGCAAGCGGGTGGTGGGCAGGAATGCGGTCCGCCCTGCAGCAACCGGAGGGGGAGGGAGAAGGGAGCG\\nGAAAAGTCTCCACCGGACGCGGCCATGGCTCGGGGGGGGGGGGGCAGCGGAGGAGCGCTTCCGGCCGACG\\nTCTCGTCGCTGATTGGCTTCTTTTCCTCCCGCCGTGTGTGAAAACACAAATGGCGTGTTTTGGTTGGCGT\\nAAGGCGCCTGTCAGTTAACGGCAGCCGGAGTGCGCAGCCGCCGGCAGCCTCGCTCTGCCCACTGGGTGGG\\nGCGGGAGGTAGGTGGGGTGAGGCGAGCTGGACGTGCGGGCGCGGTCGGCCTCTGGCGGGGCGGGGGGGGG\\nGGGGGGGGGTCAGCGAAAGTAGCTCGCGCGCGAGCGGCCGCCCACCCTCCCCTTCCTCTGGGGGAGTCG'"
      ]
     },
     "execution_count": 7,
     "metadata": {},
     "output_type": "execute_result"
    }
   ],
   "source": [
    "seq[:500]"
   ]
  },
  {
   "cell_type": "code",
   "execution_count": 8,
   "metadata": {},
   "outputs": [
    {
     "name": "stdout",
     "output_type": "stream",
     "text": [
      "/Users/rhodesct/Documents/Genomes/Sequence/Plasmid/Ai9/addgene-plasmid-22799-sequence-115994.fa\n"
     ]
    }
   ],
   "source": [
    "seq_id = 'addgene-plasmid-22799-sequence-115994'\n",
    "abs_path_fa = os.path.join(OUT_DIR, 'Sequence/Plasmid/Ai9', seq_id+'.fa')\n",
    "print abs_path_fa"
   ]
  },
  {
   "cell_type": "code",
   "execution_count": 9,
   "metadata": {},
   "outputs": [],
   "source": [
    "file1 = open(abs_path_fa, 'w')\n",
    "file1.write(seq)\n",
    "file1.close()"
   ]
  },
  {
   "cell_type": "code",
   "execution_count": 10,
   "metadata": {},
   "outputs": [],
   "source": [
    "gtf = []\n",
    "gtf.append('Ai9')\n",
    "gtf.append('addGene')\n",
    "gtf.append('exon')\n",
    "gtf.append('3903')\n",
    "gtf.append('5333')\n",
    "gtf.append('.')\n",
    "gtf.append('+')\n",
    "gtf.append('0')\n",
    "gtf.append('gene_id \"ENSG00000106462\"; transcript_id \"ENST00000320356\"; gene_name \"TOMA9\"; gene_biotype \"protein_coding\";')"
   ]
  },
  {
   "cell_type": "code",
   "execution_count": 11,
   "metadata": {},
   "outputs": [
    {
     "name": "stdout",
     "output_type": "stream",
     "text": [
      "['Ai9', 'addGene', 'exon', '3903', '5333', '.', '+', '0', 'gene_id \"ENSG00000106462\"; transcript_id \"ENST00000320356\"; gene_name \"TOMA9\"; gene_biotype \"protein_coding\";']\n"
     ]
    }
   ],
   "source": [
    "print gtf"
   ]
  },
  {
   "cell_type": "code",
   "execution_count": 12,
   "metadata": {},
   "outputs": [
    {
     "name": "stdout",
     "output_type": "stream",
     "text": [
      "Ai9\taddGene\texon\t3903\t5333\t.\t+\t0\tgene_id \"ENSG00000106462\"; transcript_id \"ENST00000320356\"; gene_name \"TOMA9\"; gene_biotype \"protein_coding\";\n"
     ]
    }
   ],
   "source": [
    "gtf_formatted = '\\t'.join(map(str,gtf))\n",
    "print gtf_formatted"
   ]
  },
  {
   "cell_type": "code",
   "execution_count": 13,
   "metadata": {},
   "outputs": [
    {
     "name": "stdout",
     "output_type": "stream",
     "text": [
      "/Users/rhodesct/Documents/Genomes/Annotation/Plasmid/Ai9/Ai9_plasmid_22799.gtf\n"
     ]
    }
   ],
   "source": [
    "gtf_id = 'Ai9_plasmid_22799'\n",
    "abs_path_gtf = os.path.join(OUT_DIR, 'Annotation/Plasmid/Ai9', gtf_id+'.gtf')\n",
    "print abs_path_gtf"
   ]
  },
  {
   "cell_type": "code",
   "execution_count": 14,
   "metadata": {},
   "outputs": [],
   "source": [
    "file2 = open(abs_path_gtf, 'w')\n",
    "file2.write(gtf_formatted)\n",
    "file2.close()"
   ]
  },
  {
   "cell_type": "code",
   "execution_count": null,
   "metadata": {},
   "outputs": [],
   "source": []
  }
 ],
 "metadata": {
  "kernelspec": {
   "display_name": "Python 2",
   "language": "python",
   "name": "python2"
  },
  "language_info": {
   "codemirror_mode": {
    "name": "ipython",
    "version": 2
   },
   "file_extension": ".py",
   "mimetype": "text/x-python",
   "name": "python",
   "nbconvert_exporter": "python",
   "pygments_lexer": "ipython2",
   "version": "2.7.15"
  }
 },
 "nbformat": 4,
 "nbformat_minor": 2
}
